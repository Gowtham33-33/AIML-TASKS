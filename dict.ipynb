{
 "cells": [
  {
   "cell_type": "code",
   "execution_count": 3,
   "id": "65b70a1b-2b1d-4ec6-bbcf-6f4cb53f26b0",
   "metadata": {},
   "outputs": [
    {
     "name": "stdout",
     "output_type": "stream",
     "text": [
      "{'x': 1, 'y': 2, 'z': 3}\n"
     ]
    }
   ],
   "source": [
    "d3 = dict([(\"x\", 1),(\"y\", 2),(\"z\", 3)])\n",
    "print(d3)\n"
   ]
  },
  {
   "cell_type": "code",
   "execution_count": 5,
   "id": "7028f88e-57d0-4973-a744-3982b4ac5f5c",
   "metadata": {},
   "outputs": [
    {
     "data": {
      "text/plain": [
       "{'virat': 90,\n",
       " 'rohit': 100,\n",
       " 'rahul': 70,\n",
       " 'hardik': 9,\n",
       " 'gill': 20,\n",
       " 'jadeja': 30,\n",
       " 'siraj': 15,\n",
       " 'ashwin': 15}"
      ]
     },
     "execution_count": 5,
     "metadata": {},
     "output_type": "execute_result"
    }
   ],
   "source": [
    "scores={'virat':90,'rohit':100,'rahul':70,'hardik':9,'gill':20,'jadeja':30,'siraj':15}\n",
    "scores[\"ashwin\"] = 15\n",
    "scores\n",
    "\n"
   ]
  },
  {
   "cell_type": "code",
   "execution_count": 6,
   "id": "4835494a-e6f3-4163-b596-85aefb18960a",
   "metadata": {},
   "outputs": [
    {
     "data": {
      "text/plain": [
       "{'virat': 90,\n",
       " 'rohit': 100,\n",
       " 'rahul': 70,\n",
       " 'hardik': 9,\n",
       " 'gill': 20,\n",
       " 'jadeja': 50,\n",
       " 'siraj': 15,\n",
       " 'ashwin': 15}"
      ]
     },
     "execution_count": 6,
     "metadata": {},
     "output_type": "execute_result"
    }
   ],
   "source": [
    "scores.update({\"jadeja\":50})\n",
    "scores\n",
    "\n",
    "\n"
   ]
  },
  {
   "cell_type": "code",
   "execution_count": 7,
   "id": "c80e7aa8-20bc-4216-8b8b-b94b1b70f283",
   "metadata": {},
   "outputs": [
    {
     "data": {
      "text/plain": [
       "{'virat': 90,\n",
       " 'rohit': 100,\n",
       " 'rahul': 70,\n",
       " 'hardik': 65,\n",
       " 'gill': 20,\n",
       " 'jadeja': 50,\n",
       " 'siraj': 15,\n",
       " 'ashwin': 15,\n",
       " 'rahane': 54}"
      ]
     },
     "execution_count": 7,
     "metadata": {},
     "output_type": "execute_result"
    }
   ],
   "source": [
    "scores.update({\"hardik\":65, \"rahane\":54})\n",
    "scores\n"
   ]
  },
  {
   "cell_type": "code",
   "execution_count": 11,
   "id": "522e18c7-ca25-4643-9a42-42f052db9b5b",
   "metadata": {},
   "outputs": [
    {
     "data": {
      "text/plain": [
       "{'virat': 90,\n",
       " 'rohit': 100,\n",
       " 'rahul': 70,\n",
       " 'hardik': 65,\n",
       " 'gill': 20,\n",
       " 'jadeja': 50,\n",
       " 'siraj': 15,\n",
       " 'ashwin': 15,\n",
       " 'rahane': 54}"
      ]
     },
     "execution_count": 11,
     "metadata": {},
     "output_type": "execute_result"
    }
   ],
   "source": [
    "scores.setdefault(\"rahul\",60)\n",
    "scores\n",
    "\n",
    "\n"
   ]
  },
  {
   "cell_type": "code",
   "execution_count": 12,
   "id": "168c6d53-3c4c-43ca-9776-23309826077e",
   "metadata": {},
   "outputs": [
    {
     "data": {
      "text/plain": [
       "{'virat': 90,\n",
       " 'rohit': 100,\n",
       " 'rahul': 70,\n",
       " 'hardik': 65,\n",
       " 'gill': 20,\n",
       " 'jadeja': 50,\n",
       " 'siraj': 15,\n",
       " 'ashwin': 15,\n",
       " 'rahane': 54,\n",
       " 'pujara': 32}"
      ]
     },
     "execution_count": 12,
     "metadata": {},
     "output_type": "execute_result"
    }
   ],
   "source": [
    "scores.setdefault(\"pujara\",32)\n",
    "scores"
   ]
  },
  {
   "cell_type": "code",
   "execution_count": 14,
   "id": "11088c29-7825-46d5-ba7d-479d2fe9e219",
   "metadata": {},
   "outputs": [
    {
     "data": {
      "text/plain": [
       "{'virat': 90,\n",
       " 'rohit': 100,\n",
       " 'rahul': 70,\n",
       " 'hardik': 65,\n",
       " 'gill': 20,\n",
       " 'jadeja': 50,\n",
       " 'siraj': 15,\n",
       " 'ashwin': 15,\n",
       " 'pujara': 32}"
      ]
     },
     "execution_count": 14,
     "metadata": {},
     "output_type": "execute_result"
    }
   ],
   "source": [
    "scores.pop(\"rahane\")\n",
    "scores\n"
   ]
  },
  {
   "cell_type": "code",
   "execution_count": 18,
   "id": "64ea71c1-7816-4fa2-8d81-3509d951c1a8",
   "metadata": {},
   "outputs": [
    {
     "data": {
      "text/plain": [
       "{'virat': 90,\n",
       " 'rohit': 100,\n",
       " 'rahul': 70,\n",
       " 'hardik': 65,\n",
       " 'gill': 20,\n",
       " 'jadeja': 50,\n",
       " 'siraj': 15,\n",
       " 'ashwin': 15}"
      ]
     },
     "execution_count": 18,
     "metadata": {},
     "output_type": "execute_result"
    }
   ],
   "source": [
    "scores.popitem()\n",
    "scores\n"
   ]
  },
  {
   "cell_type": "code",
   "execution_count": 23,
   "id": "8057c341-33d6-44b5-983f-5e0f54161f0f",
   "metadata": {},
   "outputs": [
    {
     "data": {
      "text/plain": [
       "15"
      ]
     },
     "execution_count": 23,
     "metadata": {},
     "output_type": "execute_result"
    }
   ],
   "source": [
    "scores.get(\"siraj\")"
   ]
  },
  {
   "cell_type": "code",
   "execution_count": 25,
   "id": "24537915-d880-46fc-ad1e-01c414b04603",
   "metadata": {},
   "outputs": [
    {
     "data": {
      "text/plain": [
       "{'A': None, 'B': None, 'C': None, 'D': None}"
      ]
     },
     "execution_count": 25,
     "metadata": {},
     "output_type": "execute_result"
    }
   ],
   "source": [
    "list1 = [\"A\",\"B\",\"C\",\"D\"]\n",
    "my_dict = dict.fromkeys(list1)\n",
    "my_dict\n",
    "\n"
   ]
  },
  {
   "cell_type": "code",
   "execution_count": 26,
   "id": "5f252f99-8717-4bc9-9733-fb9fbf899e46",
   "metadata": {},
   "outputs": [
    {
     "data": {
      "text/plain": [
       "{'A': 10, 'B': 20, 'C': None, 'D': None}"
      ]
     },
     "execution_count": 26,
     "metadata": {},
     "output_type": "execute_result"
    }
   ],
   "source": [
    "my_dict.update({\"A\":10,\"B\":20})\n",
    "my_dict\n"
   ]
  },
  {
   "cell_type": "code",
   "execution_count": null,
   "id": "1783a4ba-6252-486a-a654-e98ab9507f5d",
   "metadata": {},
   "outputs": [],
   "source": []
  }
 ],
 "metadata": {
  "kernelspec": {
   "display_name": "Python 3 (ipykernel)",
   "language": "python",
   "name": "python3"
  },
  "language_info": {
   "codemirror_mode": {
    "name": "ipython",
    "version": 3
   },
   "file_extension": ".py",
   "mimetype": "text/x-python",
   "name": "python",
   "nbconvert_exporter": "python",
   "pygments_lexer": "ipython3",
   "version": "3.12.7"
  }
 },
 "nbformat": 4,
 "nbformat_minor": 5
}
